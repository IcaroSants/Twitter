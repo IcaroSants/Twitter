{
 "cells": [
  {
   "cell_type": "code",
   "execution_count": 5,
   "id": "37a4d297-167c-4b2b-b476-9e806ed09c8f",
   "metadata": {},
   "outputs": [],
   "source": [
    "import pandas as pd \n",
    "import spacy\n",
    "from nltk.tokenize import RegexpTokenizer\n",
    "from spacy.lang.en import stop_words\n",
    "from nltk.corpus import stopwords"
   ]
  },
  {
   "cell_type": "code",
   "execution_count": 6,
   "id": "a91a1616-c36b-4ac9-9409-bb14392b0411",
   "metadata": {},
   "outputs": [],
   "source": [
    "dataset_training = pd.read_csv(\"twitter_training.csv\",names=[\"id\",\"entity\",\"sentiment\",\"tweet\"])\n",
    "dataset_training.dropna(inplace=True)"
   ]
  },
  {
   "cell_type": "code",
   "execution_count": 7,
   "id": "ecc49298-1306-4d92-af44-6b991dbd0942",
   "metadata": {},
   "outputs": [
    {
     "data": {
      "text/html": [
       "<div>\n",
       "<style scoped>\n",
       "    .dataframe tbody tr th:only-of-type {\n",
       "        vertical-align: middle;\n",
       "    }\n",
       "\n",
       "    .dataframe tbody tr th {\n",
       "        vertical-align: top;\n",
       "    }\n",
       "\n",
       "    .dataframe thead th {\n",
       "        text-align: right;\n",
       "    }\n",
       "</style>\n",
       "<table border=\"1\" class=\"dataframe\">\n",
       "  <thead>\n",
       "    <tr style=\"text-align: right;\">\n",
       "      <th></th>\n",
       "      <th>id</th>\n",
       "      <th>entity</th>\n",
       "      <th>sentiment</th>\n",
       "      <th>tweet</th>\n",
       "    </tr>\n",
       "  </thead>\n",
       "  <tbody>\n",
       "    <tr>\n",
       "      <th>0</th>\n",
       "      <td>2401</td>\n",
       "      <td>Borderlands</td>\n",
       "      <td>Positive</td>\n",
       "      <td>im getting on borderlands and i will murder yo...</td>\n",
       "    </tr>\n",
       "    <tr>\n",
       "      <th>1</th>\n",
       "      <td>2401</td>\n",
       "      <td>Borderlands</td>\n",
       "      <td>Positive</td>\n",
       "      <td>I am coming to the borders and I will kill you...</td>\n",
       "    </tr>\n",
       "    <tr>\n",
       "      <th>2</th>\n",
       "      <td>2401</td>\n",
       "      <td>Borderlands</td>\n",
       "      <td>Positive</td>\n",
       "      <td>im getting on borderlands and i will kill you ...</td>\n",
       "    </tr>\n",
       "    <tr>\n",
       "      <th>3</th>\n",
       "      <td>2401</td>\n",
       "      <td>Borderlands</td>\n",
       "      <td>Positive</td>\n",
       "      <td>im coming on borderlands and i will murder you...</td>\n",
       "    </tr>\n",
       "    <tr>\n",
       "      <th>4</th>\n",
       "      <td>2401</td>\n",
       "      <td>Borderlands</td>\n",
       "      <td>Positive</td>\n",
       "      <td>im getting on borderlands 2 and i will murder ...</td>\n",
       "    </tr>\n",
       "    <tr>\n",
       "      <th>...</th>\n",
       "      <td>...</td>\n",
       "      <td>...</td>\n",
       "      <td>...</td>\n",
       "      <td>...</td>\n",
       "    </tr>\n",
       "    <tr>\n",
       "      <th>74677</th>\n",
       "      <td>9200</td>\n",
       "      <td>Nvidia</td>\n",
       "      <td>Positive</td>\n",
       "      <td>Just realized that the Windows partition of my...</td>\n",
       "    </tr>\n",
       "    <tr>\n",
       "      <th>74678</th>\n",
       "      <td>9200</td>\n",
       "      <td>Nvidia</td>\n",
       "      <td>Positive</td>\n",
       "      <td>Just realized that my Mac window partition is ...</td>\n",
       "    </tr>\n",
       "    <tr>\n",
       "      <th>74679</th>\n",
       "      <td>9200</td>\n",
       "      <td>Nvidia</td>\n",
       "      <td>Positive</td>\n",
       "      <td>Just realized the windows partition of my Mac ...</td>\n",
       "    </tr>\n",
       "    <tr>\n",
       "      <th>74680</th>\n",
       "      <td>9200</td>\n",
       "      <td>Nvidia</td>\n",
       "      <td>Positive</td>\n",
       "      <td>Just realized between the windows partition of...</td>\n",
       "    </tr>\n",
       "    <tr>\n",
       "      <th>74681</th>\n",
       "      <td>9200</td>\n",
       "      <td>Nvidia</td>\n",
       "      <td>Positive</td>\n",
       "      <td>Just like the windows partition of my Mac is l...</td>\n",
       "    </tr>\n",
       "  </tbody>\n",
       "</table>\n",
       "<p>73996 rows × 4 columns</p>\n",
       "</div>"
      ],
      "text/plain": [
       "         id       entity sentiment  \\\n",
       "0      2401  Borderlands  Positive   \n",
       "1      2401  Borderlands  Positive   \n",
       "2      2401  Borderlands  Positive   \n",
       "3      2401  Borderlands  Positive   \n",
       "4      2401  Borderlands  Positive   \n",
       "...     ...          ...       ...   \n",
       "74677  9200       Nvidia  Positive   \n",
       "74678  9200       Nvidia  Positive   \n",
       "74679  9200       Nvidia  Positive   \n",
       "74680  9200       Nvidia  Positive   \n",
       "74681  9200       Nvidia  Positive   \n",
       "\n",
       "                                                   tweet  \n",
       "0      im getting on borderlands and i will murder yo...  \n",
       "1      I am coming to the borders and I will kill you...  \n",
       "2      im getting on borderlands and i will kill you ...  \n",
       "3      im coming on borderlands and i will murder you...  \n",
       "4      im getting on borderlands 2 and i will murder ...  \n",
       "...                                                  ...  \n",
       "74677  Just realized that the Windows partition of my...  \n",
       "74678  Just realized that my Mac window partition is ...  \n",
       "74679  Just realized the windows partition of my Mac ...  \n",
       "74680  Just realized between the windows partition of...  \n",
       "74681  Just like the windows partition of my Mac is l...  \n",
       "\n",
       "[73996 rows x 4 columns]"
      ]
     },
     "execution_count": 7,
     "metadata": {},
     "output_type": "execute_result"
    }
   ],
   "source": [
    "dataset_training"
   ]
  },
  {
   "cell_type": "code",
   "execution_count": 8,
   "id": "9fa2a2b1-4aa6-45b2-99dc-0b8925455909",
   "metadata": {},
   "outputs": [],
   "source": [
    "entity = dataset_training[\"entity\"].value_counts()"
   ]
  },
  {
   "cell_type": "code",
   "execution_count": 17,
   "id": "e492f79f-faa8-4969-8e92-f5f67c8a4678",
   "metadata": {},
   "outputs": [
    {
     "data": {
      "image/png": "[encoded data removed]",
      "text/plain": [
       "<Figure size 640x480 with 1 Axes>"
      ]
     },
     "metadata": {},
     "output_type": "display_data"
    }
   ],
   "source": [
    "import seaborn as sns\n",
    "import matplotlib.pyplot as plt\n",
    "fig = sns.barplot(y=entity.index, x=entity.values,orient=\"h\")\n",
    "plt.savefig(\"assuntos.png\")"
   ]
  },
  {
   "cell_type": "code",
   "execution_count": 22,
   "id": "8b4a5c67-5247-4bbb-96b8-a0660f7e69c8",
   "metadata": {},
   "outputs": [],
   "source": [
    "quantity = dataset_training[\"sentiment\"].value_counts()"
   ]
  },
  {
   "cell_type": "code",
   "execution_count": 27,
   "id": "ccb6083b-243c-4556-9a1d-c4fccb4fc272",
   "metadata": {},
   "outputs": [
    {
     "data": {
      "image/png": "[encoded data removed]",
      "text/plain": [
       "<Figure size 640x480 with 1 Axes>"
      ]
     },
     "metadata": {},
     "output_type": "display_data"
    }
   ],
   "source": [
    "fig = plt.figure()\n",
    "ax = fig.add_subplot()\n",
    "ax.bar(quantity.index.tolist(),height=quantity.values)\n",
    "ax.set_title(\"Quantidade de tweets\")\n",
    "plt.savefig(\"quantidade_de_tweets.png\")"
   ]
  },
  {
   "cell_type": "code",
   "execution_count": 6,
   "id": "fea6d12a-b842-469e-b5b3-e1b39a5bd726",
   "metadata": {},
   "outputs": [],
   "source": [
    "tweets = dataset_training['tweet']\n",
    "sentiment = dataset_training['sentiment']"
   ]
  },
  {
   "cell_type": "code",
   "execution_count": 7,
   "id": "718d163e-e35f-4474-92bd-3890eac39b77",
   "metadata": {},
   "outputs": [
    {
     "data": {
      "text/plain": [
       "0        im getting on borderlands and i will murder yo...\n",
       "1        I am coming to the borders and I will kill you...\n",
       "2        im getting on borderlands and i will kill you ...\n",
       "3        im coming on borderlands and i will murder you...\n",
       "4        im getting on borderlands 2 and i will murder ...\n",
       "                               ...                        \n",
       "74677    Just realized that the Windows partition of my...\n",
       "74678    Just realized that my Mac window partition is ...\n",
       "74679    Just realized the windows partition of my Mac ...\n",
       "74680    Just realized between the windows partition of...\n",
       "74681    Just like the windows partition of my Mac is l...\n",
       "Name: tweet, Length: 73996, dtype: object"
      ]
     },
     "execution_count": 7,
     "metadata": {},
     "output_type": "execute_result"
    }
   ],
   "source": [
    "tweets"
   ]
  },
  {
   "cell_type": "markdown",
   "id": "5b508f0b-dc03-4099-b76b-de9a856c3e5e",
   "metadata": {
    "tags": []
   },
   "source": [
    "# Pré-processamento"
   ]
  },
  {
   "cell_type": "code",
   "execution_count": 8,
   "id": "477719a4-788e-4217-9905-dfd16b569fc7",
   "metadata": {},
   "outputs": [],
   "source": [
    "sample = tweets.iloc[68]"
   ]
  },
  {
   "cell_type": "code",
   "execution_count": 9,
   "id": "1d597616-46f8-4a82-b151-060c7c09a50a",
   "metadata": {},
   "outputs": [
    {
     "data": {
      "text/plain": [
       "\"Going to finish up Borderlands 2 today. I've got some new events set up and am look forward to a good stream! Starting in about 20 hour!\""
      ]
     },
     "execution_count": 9,
     "metadata": {},
     "output_type": "execute_result"
    }
   ],
   "source": [
    "sample"
   ]
  },
  {
   "cell_type": "code",
   "execution_count": 10,
   "id": "3b5a1683-303e-4b6f-b69f-2b90c8b624c9",
   "metadata": {},
   "outputs": [],
   "source": [
    "def tokenizer_tweet(tweet):\n",
    "    tokenizer = RegexpTokenizer(r\"\\w+|[0-9]\")\n",
    "    tokenized_tweet = tokenizer.tokenize(tweet)\n",
    "    return tokenized_tweet\n",
    "    "
   ]
  },
  {
   "cell_type": "code",
   "execution_count": 11,
   "id": "f6722f71-fd99-439e-a787-a628e5cb9aa1",
   "metadata": {},
   "outputs": [],
   "source": [
    "sample_tokenized = tokenizer_tweet(sample)"
   ]
  },
  {
   "cell_type": "code",
   "execution_count": 12,
   "id": "77f26691-53a5-4113-a4ec-6255065a8349",
   "metadata": {},
   "outputs": [
    {
     "data": {
      "text/plain": [
       "['Going',\n",
       " 'to',\n",
       " 'finish',\n",
       " 'up',\n",
       " 'Borderlands',\n",
       " '2',\n",
       " 'today',\n",
       " 'I',\n",
       " 've',\n",
       " 'got',\n",
       " 'some',\n",
       " 'new',\n",
       " 'events',\n",
       " 'set',\n",
       " 'up',\n",
       " 'and',\n",
       " 'am',\n",
       " 'look',\n",
       " 'forward',\n",
       " 'to',\n",
       " 'a',\n",
       " 'good',\n",
       " 'stream',\n",
       " 'Starting',\n",
       " 'in',\n",
       " 'about',\n",
       " '20',\n",
       " 'hour']"
      ]
     },
     "execution_count": 12,
     "metadata": {},
     "output_type": "execute_result"
    }
   ],
   "source": [
    "sample_tokenized"
   ]
  },
  {
   "cell_type": "code",
   "execution_count": 13,
   "id": "8e747f91-37d4-4962-9944-0e265cd13c7d",
   "metadata": {},
   "outputs": [],
   "source": [
    "stop_words_nltk = set(stopwords.words('english'))\n",
    "all_stopwords = stop_words.STOP_WORDS.union(stop_words_nltk) \n",
    "\n",
    "def remove_stopwords(tokens):\n",
    "    tweet_without_stopwords = []\n",
    "    for token in tokens:\n",
    "        if token not in all_stopwords:\n",
    "            tweet_without_stopwords.append(token)\n",
    "    return tweet_without_stopwords"
   ]
  },
  {
   "cell_type": "code",
   "execution_count": 14,
   "id": "0dc02ab8-f069-4b97-af6e-9a033ac79ecd",
   "metadata": {},
   "outputs": [],
   "source": [
    "sample_without_stopwords = remove_stopwords(sample_tokenized)"
   ]
  },
  {
   "cell_type": "code",
   "execution_count": 15,
   "id": "31dea6ca-5ea4-4dda-8e3e-2cfe54c9e6c9",
   "metadata": {},
   "outputs": [],
   "source": [
    "def lower_tweet(tokens):\n",
    "    return [token.lower() for token in tokens]"
   ]
  },
  {
   "cell_type": "code",
   "execution_count": 16,
   "id": "e57314c7-6a69-4cc8-ae33-4ea0d8962c91",
   "metadata": {},
   "outputs": [],
   "source": [
    "nlp = spacy.load(\"en_core_web_sm\")\n",
    "\n",
    "def lemmatize_tweet(tokens):\n",
    "    tweet = \" \".join(token for token in tokens)\n",
    "    doc = nlp(tweet)\n",
    "    return [token.lemma_ for token in doc]"
   ]
  },
  {
   "cell_type": "code",
   "execution_count": 17,
   "id": "733dfb71-582e-4a06-a942-b26f6979d0be",
   "metadata": {},
   "outputs": [],
   "source": [
    "def pipeline(tweet):\n",
    "    new_tweet = tokenizer_tweet(tweet)\n",
    "    new_tweet = remove_stopwords(new_tweet)\n",
    "    new_tweet = lower_tweet(new_tweet)\n",
    "    new_tweet = lemmatize_tweet(new_tweet)\n",
    "    \n",
    "    return new_tweet"
   ]
  },
  {
   "cell_type": "code",
   "execution_count": 18,
   "id": "548eb1df-9e04-45be-8f10-348b43fd9486",
   "metadata": {},
   "outputs": [
    {
     "data": {
      "text/plain": [
       "['go',\n",
       " 'finish',\n",
       " 'borderland',\n",
       " '2',\n",
       " 'today',\n",
       " 'I',\n",
       " 'get',\n",
       " 'new',\n",
       " 'event',\n",
       " 'set',\n",
       " 'look',\n",
       " 'forward',\n",
       " 'good',\n",
       " 'stream',\n",
       " 'start',\n",
       " '20',\n",
       " 'hour']"
      ]
     },
     "execution_count": 18,
     "metadata": {},
     "output_type": "execute_result"
    }
   ],
   "source": [
    "pipeline(sample)"
   ]
  },
  {
   "cell_type": "code",
   "execution_count": 19,
   "id": "00949c67-9113-4a82-bf94-b7b7447cdf44",
   "metadata": {},
   "outputs": [],
   "source": [
    "tweet_preprocess = tweets.apply(lambda x: pipeline(x))"
   ]
  },
  {
   "cell_type": "markdown",
   "id": "3aee2a0e-061f-4179-87ae-3d54c6fef922",
   "metadata": {
    "tags": []
   },
   "source": [
    "# Word2vec"
   ]
  },
  {
   "cell_type": "code",
   "execution_count": 20,
   "id": "78885c0c-1d14-414c-a885-4b35e5428c63",
   "metadata": {},
   "outputs": [],
   "source": [
    "from gensim.models import Word2Vec\n",
    "import os"
   ]
  },
  {
   "cell_type": "code",
   "execution_count": 21,
   "id": "8d2a41fc-c5b0-48fd-9b12-cb72ff421189",
   "metadata": {},
   "outputs": [],
   "source": [
    "if os.path.isfile(\"twweets_model_100.model\"):\n",
    "    w2v = Word2Vec.load(\"twweets_model_100.model\")\n",
    "else:\n",
    "    w2v = Word2Vec(sentences=tweet_preprocess.values.tolist(),vector_size=100,min_count=1,window=5)\n",
    "    w2v.train(tweet_preprocess.values.tolist(),total_examples=5,epochs=10)\n",
    "    w2v.save(\"twweets_model_100.model\")"
   ]
  },
  {
   "cell_type": "code",
   "execution_count": 22,
   "id": "fed81ec7-0880-49d7-8535-2bac70555a16",
   "metadata": {},
   "outputs": [],
   "source": [
    "weights = w2v.wv.vectors\n",
    "vocab = w2v.wv.index_to_key"
   ]
  },
  {
   "cell_type": "code",
   "execution_count": 23,
   "id": "20e8bc09-42b6-46b8-b4c4-101e294ac097",
   "metadata": {},
   "outputs": [],
   "source": [
    "length_vocab = len(vocab)"
   ]
  },
  {
   "cell_type": "code",
   "execution_count": 24,
   "id": "9c45407d-bfcb-4aaa-b57c-351bb5e43e74",
   "metadata": {},
   "outputs": [],
   "source": [
    "qt_tokens = tweet_preprocess.apply(lambda x: len(x))"
   ]
  },
  {
   "cell_type": "code",
   "execution_count": 25,
   "id": "d012bc9a-4ee6-48c4-8f38-3c1a6922505c",
   "metadata": {},
   "outputs": [],
   "source": [
    "MAX_TOKENS = max(qt_tokens)"
   ]
  },
  {
   "cell_type": "markdown",
   "id": "06ceec0d-2cc9-45ec-bf37-f39474dd6868",
   "metadata": {},
   "source": [
    "## Modelagem"
   ]
  },
  {
   "cell_type": "code",
   "execution_count": 30,
   "id": "48adf53e-b76f-438f-b2f6-57f016edab2d",
   "metadata": {},
   "outputs": [],
   "source": [
    "from tensorflow.keras.layers import TextVectorization, LSTM, Dense, Embedding, Activation, Flatten, Input\n",
    "from tensorflow.keras.utils import to_categorical\n",
    "from tensorflow.keras import Sequential, Model\n",
    "from tensorflow.ragged import constant\n",
    "from sklearn.model_selection import train_test_split"
   ]
  },
  {
   "cell_type": "code",
   "execution_count": 33,
   "id": "c6619ad2-c1e2-4ef7-9465-47ea4eabdc74",
   "metadata": {},
   "outputs": [],
   "source": [
    "tweets_train, tweets_test, sentiment_train, sentiment_test = train_test_split(tweet_preprocess,sentiment,test_size=0.2)"
   ]
  },
  {
   "cell_type": "code",
   "execution_count": 34,
   "id": "b5371825-25f0-4691-84e2-d5e80aeb6fd7",
   "metadata": {},
   "outputs": [],
   "source": [
    "t2v = TextVectorization(max_tokens=None, standardize=None, split=None, output_sequence_length=MAX_TOKENS+1, vocabulary=vocab)"
   ]
  },
  {
   "cell_type": "code",
   "execution_count": 35,
   "id": "19b0bcab-3679-428b-ba3d-59666024a04e",
   "metadata": {},
   "outputs": [],
   "source": [
    "X_train = constant(tweets_train.values.tolist())\n",
    "X_test = constant(tweets_test.values.tolist())"
   ]
  },
  {
   "cell_type": "code",
   "execution_count": 37,
   "id": "decec474-cf8f-484b-b472-a98ef7e913db",
   "metadata": {},
   "outputs": [],
   "source": [
    "y_train = sentiment_train.replace({\"Negative\":0,\"Positive\":3,\"Neutral\":2, \"Irrelevant\":1}).values\n",
    "y_test = sentiment_test.replace({\"Negative\":0,\"Positive\":3,\"Neutral\":2, \"Irrelevant\":1}).values\n",
    "\n",
    "y_train = to_categorical(y_train, 4)\n"
   ]
  },
  {
   "cell_type": "code",
   "execution_count": 39,
   "id": "e5b90f27-c2a8-4324-a932-93795eab38c1",
   "metadata": {},
   "outputs": [],
   "source": [
    "X_train_vec = t2v(X_train)"
   ]
  },
  {
   "cell_type": "code",
   "execution_count": 40,
   "id": "59ed1281-d3fa-47e0-8758-41c1161b4b7b",
   "metadata": {},
   "outputs": [
    {
     "data": {
      "text/plain": [
       "<tf.Tensor: shape=(59196, 199), dtype=int64, numpy=\n",
       "array([[   7,    8,  407, ...,    0,    0,    0],\n",
       "       [ 176,  165,  124, ...,    0,    0,    0],\n",
       "       [   0,    0,    0, ...,    0,    0,    0],\n",
       "       ...,\n",
       "       [ 226,  214,  424, ...,    0,    0,    0],\n",
       "       [  20,   90,  148, ...,    0,    0,    0],\n",
       "       [   7, 2428,  975, ...,    0,    0,    0]])>"
      ]
     },
     "execution_count": 40,
     "metadata": {},
     "output_type": "execute_result"
    }
   ],
   "source": [
    "X_train_vec"
   ]
  },
  {
   "cell_type": "code",
   "execution_count": 76,
   "id": "2591cb09-e7a5-448d-8fdb-49e42473a587",
   "metadata": {},
   "outputs": [
    {
     "name": "stdout",
     "output_type": "stream",
     "text": [
      "Model: \"model_1\"\n",
      "_________________________________________________________________\n",
      " Layer (type)                Output Shape              Param #   \n",
      "=================================================================\n",
      " input_2 (InputLayer)        [(None, 199)]             0         \n",
      "                                                                 \n",
      " embedding_1 (Embedding)     (None, 199, 100)          2726400   \n",
      "                                                                 \n",
      " lstm_1 (LSTM)               (None, 199, 100)          80400     \n",
      "                                                                 \n",
      " flatten_1 (Flatten)         (None, 19900)             0         \n",
      "                                                                 \n",
      " dense_2 (Dense)             (None, 100)               1990100   \n",
      "                                                                 \n",
      " dense_3 (Dense)             (None, 4)                 404       \n",
      "                                                                 \n",
      " activation_1 (Activation)   (None, 4)                 0         \n",
      "                                                                 \n",
      "=================================================================\n",
      "Total params: 4,797,304\n",
      "Trainable params: 4,797,304\n",
      "Non-trainable params: 0\n",
      "_________________________________________________________________\n"
     ]
    }
   ],
   "source": [
    "input_model = Input(shape=X_train_vec.shape[1:])\n",
    "tensor = Embedding(weights=[weights],input_length=MAX_TOKENS+1,input_dim=weights.shape[0],output_dim=weights.shape[1])(input_model)\n",
    "tensor = LSTM(100,return_sequences=True)(tensor)\n",
    "vec = Flatten()(tensor)\n",
    "vec = Dense(100)(vec)\n",
    "vec = Dense(4)(vec)\n",
    "output_model = Activation(activation='softmax')(vec)\n",
    "\n",
    "model = Model(input_model,output_model)\n",
    "\n",
    "model.summary()"
   ]
  },
  {
   "cell_type": "code",
   "execution_count": 77,
   "id": "7b30337f-ad6f-4f19-9e36-721f3e2c0ab4",
   "metadata": {},
   "outputs": [],
   "source": [
    "model.compile(loss='categorical_crossentropy',\n",
    "              optimizer='adam',\n",
    "              metrics=['accuracy'])"
   ]
  },
  {
   "cell_type": "code",
   "execution_count": 78,
   "id": "8c735292-149f-44db-ad6d-6f9a7d7ed113",
   "metadata": {},
   "outputs": [
    {
     "name": "stdout",
     "output_type": "stream",
     "text": [
      "Epoch 1/10\n",
      "1665/1665 [==============================] - 25s 14ms/step - loss: 1.0792 - accuracy: 0.5998 - val_loss: 0.5379 - val_accuracy: 0.7958\n",
      "Epoch 2/10\n",
      "1665/1665 [==============================] - 24s 14ms/step - loss: 0.3331 - accuracy: 0.8749 - val_loss: 0.3823 - val_accuracy: 0.8637\n",
      "Epoch 3/10\n",
      "1665/1665 [==============================] - 24s 14ms/step - loss: 0.2170 - accuracy: 0.9166 - val_loss: 0.3962 - val_accuracy: 0.8699\n",
      "Epoch 4/10\n",
      "1665/1665 [==============================] - 24s 14ms/step - loss: 0.1717 - accuracy: 0.9331 - val_loss: 0.3954 - val_accuracy: 0.8811\n",
      "Epoch 5/10\n",
      "1665/1665 [==============================] - 24s 14ms/step - loss: 0.1416 - accuracy: 0.9443 - val_loss: 0.4418 - val_accuracy: 0.8814\n",
      "Epoch 6/10\n",
      "1665/1665 [==============================] - 24s 14ms/step - loss: 0.1182 - accuracy: 0.9525 - val_loss: 0.5093 - val_accuracy: 0.8831\n",
      "Epoch 7/10\n",
      "1665/1665 [==============================] - 24s 14ms/step - loss: 0.1016 - accuracy: 0.9587 - val_loss: 0.5825 - val_accuracy: 0.8858\n",
      "Epoch 8/10\n",
      "1665/1665 [==============================] - 24s 14ms/step - loss: 0.0935 - accuracy: 0.9618 - val_loss: 0.6342 - val_accuracy: 0.8833\n",
      "Epoch 9/10\n",
      "1665/1665 [==============================] - 24s 14ms/step - loss: 0.0844 - accuracy: 0.9644 - val_loss: 0.7022 - val_accuracy: 0.8823\n",
      "Epoch 10/10\n",
      "1665/1665 [==============================] - 24s 14ms/step - loss: 0.0813 - accuracy: 0.9659 - val_loss: 0.7929 - val_accuracy: 0.8850\n"
     ]
    }
   ],
   "source": [
    "history = model.fit(X_train_vec,y_train,\n",
    "                    batch_size=32,\n",
    "                    epochs=10,\n",
    "                    validation_split=0.1)"
   ]
  },
  {
   "cell_type": "code",
   "execution_count": 79,
   "id": "244798e5-359a-4c8b-8a10-62b6e3638dcf",
   "metadata": {},
   "outputs": [],
   "source": [
    "from sklearn.metrics import accuracy_score, precision_score, recall_score, f1_score, ConfusionMatrixDisplay, roc_auc_score"
   ]
  },
  {
   "cell_type": "code",
   "execution_count": 80,
   "id": "ef346c57-875b-4deb-977d-15d6909a294a",
   "metadata": {},
   "outputs": [
    {
     "name": "stdout",
     "output_type": "stream",
     "text": [
      "463/463 [==============================] - 2s 4ms/step\n"
     ]
    }
   ],
   "source": [
    "X_test_vec = t2v(X_test)\n",
    "y_pred = model.predict(X_test_vec)"
   ]
  },
  {
   "cell_type": "code",
   "execution_count": 81,
   "id": "3c110b33-c07c-4134-922c-b11c90f1b6d7",
   "metadata": {},
   "outputs": [],
   "source": [
    "y_pred = y_pred.argmax(1)"
   ]
  },
  {
   "cell_type": "code",
   "execution_count": 83,
   "id": "98183de2-73f4-4c00-b3d3-fffef1622189",
   "metadata": {},
   "outputs": [
    {
     "name": "stdout",
     "output_type": "stream",
     "text": [
      "acuracia:0.89\n",
      "precisao:0.89\n",
      "revocacao:0.88\n",
      "f1-score:0.89\n"
     ]
    }
   ],
   "source": [
    "print(\"acuracia:{:.2f}\".format(accuracy_score(y_test,y_pred)))\n",
    "print(\"precisao:{:.2f}\".format(precision_score(y_test,y_pred,average=\"macro\")))\n",
    "print(\"revocacao:{:.2f}\".format(recall_score(y_test,y_pred,average=\"macro\")))\n",
    "print(\"f1-score:{:.2f}\".format(f1_score(y_test,y_pred,average=\"macro\")))"
   ]
  },
  {
   "cell_type": "code",
   "execution_count": 84,
   "id": "2e4247e9-b255-4808-94f5-0a037b940f28",
   "metadata": {},
   "outputs": [
    {
     "data": {
      "text/plain": [
       "<sklearn.metrics._plot.confusion_matrix.ConfusionMatrixDisplay at 0x7fa3d93736a0>"
      ]
     },
     "execution_count": 84,
     "metadata": {},
     "output_type": "execute_result"
    },
    {
     "data": {
      "image/png": "[encoded data removed]",
      "text/plain": [
       "<Figure size 640x480 with 2 Axes>"
      ]
     },
     "metadata": {},
     "output_type": "display_data"
    }
   ],
   "source": [
    "ConfusionMatrixDisplay.from_predictions(y_test,y_pred)"
   ]
  }
 ],
 "metadata": {
  "kernelspec": {
   "display_name": "Python 3 (ipykernel)",
   "language": "python",
   "name": "python3"
  },
  "language_info": {
   "codemirror_mode": {
    "name": "ipython",
    "version": 3
   },
   "file_extension": ".py",
   "mimetype": "text/x-python",
   "name": "python",
   "nbconvert_exporter": "python",
   "pygments_lexer": "ipython3",
   "version": "3.10.6"
  }
 },
 "nbformat": 4,
 "nbformat_minor": 5
}
